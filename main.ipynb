{
 "cells": [
  {
   "cell_type": "markdown",
   "metadata": {},
   "source": [
    "## Observations and Insights"
   ]
  },
  {
   "cell_type": "markdown",
   "metadata": {},
   "source": []
  },
  {
   "cell_type": "markdown",
   "metadata": {},
   "source": [
    "## Dependencies and starter code"
   ]
  },
  {
   "cell_type": "code",
   "execution_count": 45,
   "metadata": {},
   "outputs": [],
   "source": [
    "# Dependencies and Setup\n",
    "import matplotlib.pyplot as plt\n",
    "import pandas as pd\n",
    "import scipy.stats as st\n",
    "import numpy as np\n",
    "\n",
    "# Store the csv file paths\n",
    "mouse_metadata = \"Resources/Mouse_metadata.csv\"\n",
    "study_results = \"Resources/Study_results.csv\"\n",
    "\n",
    "# Create dataframes from the mouse data and the study results from the csv files\n",
    "mouse_metadata = pd.read_csv(mouse_metadata)\n",
    "study_results = pd.read_csv(study_results)\n",
    "\n",
    "# Combine the data into a single dataset\n",
    "combined_data = study_results.merge(mouse_metadata, on='Mouse ID', how='left')"
   ]
  },
  {
   "cell_type": "markdown",
   "metadata": {},
   "source": [
    "## Summary statistics"
   ]
  },
  {
   "cell_type": "code",
   "execution_count": 4,
   "metadata": {},
   "outputs": [
    {
     "data": {
      "text/html": [
       "<div>\n",
       "<style scoped>\n",
       "    .dataframe tbody tr th:only-of-type {\n",
       "        vertical-align: middle;\n",
       "    }\n",
       "\n",
       "    .dataframe tbody tr th {\n",
       "        vertical-align: top;\n",
       "    }\n",
       "\n",
       "    .dataframe thead th {\n",
       "        text-align: right;\n",
       "    }\n",
       "</style>\n",
       "<table border=\"1\" class=\"dataframe\">\n",
       "  <thead>\n",
       "    <tr style=\"text-align: right;\">\n",
       "      <th></th>\n",
       "      <th>Mean Tumor Volume</th>\n",
       "      <th>Median Tumor Volume</th>\n",
       "      <th>Variance</th>\n",
       "      <th>Standard Deviation</th>\n",
       "      <th>Standard Error of the Mean</th>\n",
       "    </tr>\n",
       "    <tr>\n",
       "      <th>Drug Regimen</th>\n",
       "      <th></th>\n",
       "      <th></th>\n",
       "      <th></th>\n",
       "      <th></th>\n",
       "      <th></th>\n",
       "    </tr>\n",
       "  </thead>\n",
       "  <tbody>\n",
       "    <tr>\n",
       "      <th>Capomulin</th>\n",
       "      <td>40.675741</td>\n",
       "      <td>41.557809</td>\n",
       "      <td>24.839296</td>\n",
       "      <td>4.983904</td>\n",
       "      <td>0.328629</td>\n",
       "    </tr>\n",
       "    <tr>\n",
       "      <th>Ceftamin</th>\n",
       "      <td>52.591172</td>\n",
       "      <td>51.776157</td>\n",
       "      <td>39.069446</td>\n",
       "      <td>6.250556</td>\n",
       "      <td>0.468499</td>\n",
       "    </tr>\n",
       "    <tr>\n",
       "      <th>Infubinol</th>\n",
       "      <td>52.884795</td>\n",
       "      <td>51.820584</td>\n",
       "      <td>42.886388</td>\n",
       "      <td>6.548770</td>\n",
       "      <td>0.490851</td>\n",
       "    </tr>\n",
       "    <tr>\n",
       "      <th>Ketapril</th>\n",
       "      <td>55.235638</td>\n",
       "      <td>53.698743</td>\n",
       "      <td>68.188930</td>\n",
       "      <td>8.257659</td>\n",
       "      <td>0.602252</td>\n",
       "    </tr>\n",
       "    <tr>\n",
       "      <th>Naftisol</th>\n",
       "      <td>54.331565</td>\n",
       "      <td>52.509285</td>\n",
       "      <td>65.817708</td>\n",
       "      <td>8.112811</td>\n",
       "      <td>0.594860</td>\n",
       "    </tr>\n",
       "    <tr>\n",
       "      <th>Placebo</th>\n",
       "      <td>54.033581</td>\n",
       "      <td>52.288934</td>\n",
       "      <td>60.830138</td>\n",
       "      <td>7.799368</td>\n",
       "      <td>0.579722</td>\n",
       "    </tr>\n",
       "    <tr>\n",
       "      <th>Propriva</th>\n",
       "      <td>52.322552</td>\n",
       "      <td>50.854632</td>\n",
       "      <td>42.088020</td>\n",
       "      <td>6.487528</td>\n",
       "      <td>0.511289</td>\n",
       "    </tr>\n",
       "    <tr>\n",
       "      <th>Ramicane</th>\n",
       "      <td>40.216745</td>\n",
       "      <td>40.673236</td>\n",
       "      <td>23.383692</td>\n",
       "      <td>4.835669</td>\n",
       "      <td>0.320250</td>\n",
       "    </tr>\n",
       "    <tr>\n",
       "      <th>Stelasyn</th>\n",
       "      <td>54.233149</td>\n",
       "      <td>52.431737</td>\n",
       "      <td>59.122106</td>\n",
       "      <td>7.689090</td>\n",
       "      <td>0.571526</td>\n",
       "    </tr>\n",
       "    <tr>\n",
       "      <th>Zoniferol</th>\n",
       "      <td>53.236507</td>\n",
       "      <td>51.818479</td>\n",
       "      <td>48.266689</td>\n",
       "      <td>6.947423</td>\n",
       "      <td>0.514977</td>\n",
       "    </tr>\n",
       "  </tbody>\n",
       "</table>\n",
       "</div>"
      ],
      "text/plain": [
       "              Mean Tumor Volume  Median Tumor Volume   Variance  \\\n",
       "Drug Regimen                                                      \n",
       "Capomulin             40.675741            41.557809  24.839296   \n",
       "Ceftamin              52.591172            51.776157  39.069446   \n",
       "Infubinol             52.884795            51.820584  42.886388   \n",
       "Ketapril              55.235638            53.698743  68.188930   \n",
       "Naftisol              54.331565            52.509285  65.817708   \n",
       "Placebo               54.033581            52.288934  60.830138   \n",
       "Propriva              52.322552            50.854632  42.088020   \n",
       "Ramicane              40.216745            40.673236  23.383692   \n",
       "Stelasyn              54.233149            52.431737  59.122106   \n",
       "Zoniferol             53.236507            51.818479  48.266689   \n",
       "\n",
       "              Standard Deviation  Standard Error of the Mean  \n",
       "Drug Regimen                                                  \n",
       "Capomulin               4.983904                    0.328629  \n",
       "Ceftamin                6.250556                    0.468499  \n",
       "Infubinol               6.548770                    0.490851  \n",
       "Ketapril                8.257659                    0.602252  \n",
       "Naftisol                8.112811                    0.594860  \n",
       "Placebo                 7.799368                    0.579722  \n",
       "Propriva                6.487528                    0.511289  \n",
       "Ramicane                4.835669                    0.320250  \n",
       "Stelasyn                7.689090                    0.571526  \n",
       "Zoniferol               6.947423                    0.514977  "
      ]
     },
     "execution_count": 4,
     "metadata": {},
     "output_type": "execute_result"
    }
   ],
   "source": [
    "# Generate a summary statistics table of mean, median, variance, standard deviation, and SEM of the tumor volume for each regimen\n",
    "\n",
    "#Group the data by drug regimen\n",
    "drug_groups = combined_data.groupby('Drug Regimen')\n",
    "\n",
    "#Store the tumor volume column as a variable\n",
    "tumor_volume = drug_groups['Tumor Volume (mm3)']\n",
    "\n",
    "#Calculate the mean tumor volume for each drug treatment\n",
    "tumor_vol_mean = tumor_volume.mean()\n",
    "tumor_vol_mean\n",
    "\n",
    "#Calculate the median tumor volume for each drug treatment\n",
    "tumor_vol_median = tumor_volume.median()\n",
    "tumor_vol_median\n",
    "\n",
    "#Calculate the variance in tumor volume for each drug treatment\n",
    "tumor_vol_var = tumor_volume.var(ddof=0)\n",
    "tumor_vol_var\n",
    "\n",
    "#Calculate the standard devation for tumor volume for each treatment\n",
    "tumor_vol_stdev = tumor_volume.std(ddof=0)\n",
    "tumor_vol_stdev\n",
    "\n",
    "#Calculate the standard error of the mean for tumor volume for each treatment\n",
    "tumor_vol_sem = tumor_volume.sem(ddof=0)\n",
    "tumor_vol_sem\n",
    "\n",
    "summary_stat_table = pd.DataFrame({\n",
    "    'Mean Tumor Volume': tumor_vol_mean,\n",
    "    'Median Tumor Volume': tumor_vol_median,\n",
    "    'Variance': tumor_vol_var,\n",
    "    'Standard Deviation': tumor_vol_stdev,\n",
    "    'Standard Error of the Mean': tumor_vol_sem\n",
    "})\n",
    "summary_stat_table"
   ]
  },
  {
   "cell_type": "markdown",
   "metadata": {},
   "source": [
    "## Bar plots"
   ]
  },
  {
   "cell_type": "code",
   "execution_count": 5,
   "metadata": {},
   "outputs": [
    {
     "data": {
      "image/png": "[encoded data removed]",
      "text/plain": [
       "<Figure size 432x288 with 1 Axes>"
      ]
     },
     "metadata": {
      "needs_background": "light"
     },
     "output_type": "display_data"
    }
   ],
   "source": [
    "#Count the number of data points for each drug treatment\n",
    "treatment_data_points = drug_groups['Tumor Volume (mm3)'].count()\n",
    "\n",
    "# Generate a bar plot showing number of data points for each treatment regimen using pandas\n",
    "bar_chart_pandas = treatment_data_points.plot(kind='bar', rot=45)\n",
    "\n",
    "#Add axis labels and chart title\n",
    "bar_chart_pandas.set_ylabel('Number of Data Points')\n",
    "bar_chart_pandas.set_title('Number of Data Points per Drug Regimen')\n",
    "\n",
    "#Display the bar chart\n",
    "plt.show()"
   ]
  },
  {
   "cell_type": "code",
   "execution_count": 6,
   "metadata": {},
   "outputs": [
    {
     "data": {
      "image/png": "[encoded data removed]",
      "text/plain": [
       "<Figure size 432x288 with 1 Axes>"
      ]
     },
     "metadata": {
      "needs_background": "light"
     },
     "output_type": "display_data"
    }
   ],
   "source": [
    "# Generate a bar plot showing number of data points for each treatment regimen using pyplot\n",
    "\n",
    "#Store the values to use for the x-axis\n",
    "x_axis = np.arange(0, len(treatment_data_points))\n",
    "\n",
    "#Generate the bar chart\n",
    "plt.bar(x_axis, treatment_data_points, width=.5)\n",
    "\n",
    "#Create a sorted list of drug regimens\n",
    "regimen_list = [value for value in combined_data['Drug Regimen'].sort_values().unique()]\n",
    "\n",
    "#Assign each drug regimen to a tick mark on the x-axis\n",
    "tick_locations = [value for value in x_axis]\n",
    "plt.xticks(tick_locations, regimen_list, rotation=45)\n",
    "\n",
    "#Creae axis labels and a chart title\n",
    "plt.xlabel('Drug Regimen')\n",
    "plt.ylabel('Number of Data Points')\n",
    "plt.title('Number of Data Points per Drug Regimen')\n",
    "\n",
    "#Display the bar chart\n",
    "plt.show()"
   ]
  },
  {
   "cell_type": "markdown",
   "metadata": {},
   "source": [
    "## Pie plots"
   ]
  },
  {
   "cell_type": "code",
   "execution_count": null,
   "metadata": {},
   "outputs": [],
   "source": []
  },
  {
   "cell_type": "code",
   "execution_count": null,
   "metadata": {},
   "outputs": [],
   "source": []
  },
  {
   "cell_type": "markdown",
   "metadata": {},
   "source": [
    "## Quartiles, outliers and boxplots"
   ]
  },
  {
   "cell_type": "code",
   "execution_count": 35,
   "metadata": {},
   "outputs": [],
   "source": [
    "#Calculate the final tumor volume of each mouse across four of the most promising treatment regimens. \n",
    "#Group the data by mouse ID\n",
    "grouped_data = combined_data.groupby(['Mouse ID'])\n",
    "#take the max values from the grouped data to determine final timepoints. Reset the index\n",
    "final_timepoint = grouped_data.max().reset_index()\n",
    "\n",
    "#Merge the final timepoint dataframe with the combined dataset\n",
    "merged_df = pd.merge(final_timepoint, combined_data, how='left', on=['Mouse ID', 'Timepoint'])\n",
    "\n",
    "#New dataframe with only the relevant columns\n",
    "tumor_volume = merged_df[['Mouse ID', 'Timepoint', 'Tumor Volume (mm3)_y', 'Drug Regimen_x']]\n",
    "\n",
    "#Give the columns cleaner names\n",
    "final_tumor_volumes = tumor_volume.rename(columns={\n",
    "    'Tumor Volume (mm3)_y': 'Tumor Volume',\n",
    "    'Drug Regimen_x': 'Drug Regimen'\n",
    "})\n",
    "\n",
    "#Dataframe of final tumor volume for drug regimen Capomulin\n",
    "capo_df = final_tumor_volumes.loc[final_tumor_volumes['Drug Regimen'] == 'Capomulin']\n",
    "#Store the column for tumor volume\n",
    "capo_volume_final = capo_df['Tumor Volume']\n",
    "\n",
    "# #Dataframe of final tumor volume for drug regimen Ramicane\n",
    "rami_df = final_tumor_volumes.loc[final_tumor_volumes['Drug Regimen'] == 'Ramicane']\n",
    "#Store the column for tumor volume\n",
    "rami_volume_final = rami_df['Tumor Volume']\n",
    "\n",
    "#Dataframe of final tumor volume for drug regimen Infubinol\n",
    "infu_df = final_tumor_volumes.loc[final_tumor_volumes['Drug Regimen'] == 'Infubinol']\n",
    "#Store the column for tumor volume\n",
    "infu_volume_final = infu_df['Tumor Volume']\n",
    "\n",
    "#Dataframe of final tumor volume for drug regimen Ceftamin\n",
    "ceft_df = final_tumor_volumes.loc[final_tumor_volumes['Drug Regimen'] == 'Ceftamin']\n",
    "#Store the column for tumor volume\n",
    "ceft_volume_final = ceft_df['Tumor Volume']"
   ]
  },
  {
   "cell_type": "code",
   "execution_count": 36,
   "metadata": {},
   "outputs": [
    {
     "name": "stdout",
     "output_type": "stream",
     "text": [
      "For Capomulin values below 20.70456164999999 or above 51.83201549 could be outliers.\n",
      "For Ramicane values below 17.912664470000003 or above 54.30681135 could be outliers.\n",
      "For Infubinol values below 36.83290494999999 or above 82.74144559000001 could be outliers.\n",
      "For Ceftamin values below 25.355449580000002 or above 87.66645829999999 could be outliers.\n"
     ]
    }
   ],
   "source": [
    "#Calculate the IQR and quantitatively determine if there are any potential outliers. \n",
    "\n",
    "#Calculate quartiles and IQR for Capomulin regimen\n",
    "capo_quartiles = capo_volume_final.quantile([.25, .5, .75])\n",
    "capo_lowerq = capo_quartiles[.25]\n",
    "capo_upperq = capo_quartiles[.75]\n",
    "capo_iqr = capo_upperq - capo_lowerq\n",
    "capo_iqr\n",
    "#Calculate upper and lower bounds\n",
    "capo_lower_bound = capo_lowerq - (1.5*capo_iqr)\n",
    "capo_upper_bound = capo_upperq + (1.5*capo_iqr)\n",
    "\n",
    "#Calculate quartiles and IQR for Ramicane regimen\n",
    "rami_quartiles = rami_volume_final.quantile([.25, .5, .75])\n",
    "rami_lowerq = rami_quartiles[.25]\n",
    "rami_upperq = rami_quartiles[.75]\n",
    "rami_iqr = rami_upperq - rami_lowerq\n",
    "rami_iqr\n",
    "#Calculate upper and lower bounds\n",
    "rami_lower_bound = rami_lowerq - (1.5*rami_iqr)\n",
    "rami_upper_bound = rami_upperq + (1.5*rami_iqr)\n",
    "\n",
    "#Calculate quartiles and IQR for Infubinol regimen\n",
    "infu_quartiles = infu_volume_final.quantile([.25, .5, .75])\n",
    "infu_lowerq = infu_quartiles[.25]\n",
    "infu_upperq = infu_quartiles[.75]\n",
    "infu_iqr = infu_upperq - infu_lowerq\n",
    "infu_iqr\n",
    "#Calculate upper and lower bounds\n",
    "infu_lower_bound = infu_lowerq - (1.5*infu_iqr)\n",
    "infu_upper_bound = infu_upperq + (1.5*infu_iqr)\n",
    "\n",
    "#Calculate quartiles and IQR for Ceftamin regimen\n",
    "ceft_quartiles = ceft_volume_final.quantile([.25, .5, .75])\n",
    "ceft_lowerq = ceft_quartiles[.25]\n",
    "ceft_upperq = ceft_quartiles[.75]\n",
    "ceft_iqr = ceft_upperq - ceft_lowerq\n",
    "ceft_iqr\n",
    "#Calculate upper and lower bounds\n",
    "ceft_lower_bound = ceft_lowerq - (1.5*ceft_iqr)\n",
    "ceft_upper_bound = ceft_upperq + (1.5*ceft_iqr)\n",
    "\n",
    "print(f\"For Capomulin values below {capo_lower_bound} or above {capo_upper_bound} could be outliers.\")\n",
    "print(f\"For Ramicane values below {rami_lower_bound} or above {rami_upper_bound} could be outliers.\")\n",
    "print(f\"For Infubinol values below {infu_lower_bound} or above {infu_upper_bound} could be outliers.\")\n",
    "print(f\"For Ceftamin values below {ceft_lower_bound} or above {ceft_upper_bound} could be outliers.\")"
   ]
  },
  {
   "cell_type": "code",
   "execution_count": 42,
   "metadata": {},
   "outputs": [
    {
     "data": {
      "image/png": "[encoded data removed]",
      "text/plain": [
       "<Figure size 432x288 with 1 Axes>"
      ]
     },
     "metadata": {
      "needs_background": "light"
     },
     "output_type": "display_data"
    }
   ],
   "source": [
    "# Generate a box plot of the final tumor volume of each mouse across four regimens of interest\n",
    "#Set outlier format to be a red square\n",
    "outliers = dict(markerfacecolor='r', marker='s')\n",
    "\n",
    "#Create a boxplot of the final tumor volumes for Capomulin, Ramicane, Infubinol and Ceftamin\n",
    "plt.boxplot([capo_volume_final, rami_volume_final, infu_volume_final, ceft_volume_final], flierprops=outliers)\n",
    "\n",
    "plt.show()"
   ]
  },
  {
   "cell_type": "markdown",
   "metadata": {},
   "source": [
    "## Line and scatter plots"
   ]
  },
  {
   "cell_type": "code",
   "execution_count": 12,
   "metadata": {},
   "outputs": [
    {
     "data": {
      "image/png": "[encoded data removed]",
      "text/plain": [
       "<Figure size 432x288 with 1 Axes>"
      ]
     },
     "metadata": {
      "needs_background": "light"
     },
     "output_type": "display_data"
    }
   ],
   "source": [
    "# Generate a line plot of time point versus tumor volume for a mouse treated with Capomulin\n",
    "\n",
    "#New data frame of all rows for the drug regimen Capomulin\n",
    "capomulin_data = combined_data.loc[combined_data['Drug Regimen']=='Capomulin']\n",
    "# capomulin_data\n",
    "\n",
    "#New data frame of all rows for the mouse with ID 'j119'\n",
    "single_mouse_data = capomulin_data.loc[capomulin_data['Mouse ID']=='j119']\n",
    "# single_mouse_data\n",
    "\n",
    "single_tumor_volume = single_mouse_data['Tumor Volume (mm3)']\n",
    "# single_tumor_volume\n",
    "\n",
    "single_tumor_time = single_mouse_data['Timepoint']\n",
    "# single_tumor_time\n",
    "\n",
    "#Line plot of time point versus tumor volume for a mouse treated with Capomulin\n",
    "plt.plot(single_tumor_time, single_tumor_volume, marker='o')\n",
    "\n",
    "#Add chart labels\n",
    "plt.title('Tumor Volume over Time for Mouse ID \"j119\"')\n",
    "plt.xlabel('Timepoint')\n",
    "plt.ylabel('Tumor Volume (mm3)')\n",
    "\n",
    "#Display the chart\n",
    "plt.show()"
   ]
  },
  {
   "cell_type": "code",
   "execution_count": 13,
   "metadata": {},
   "outputs": [
    {
     "data": {
      "image/png": "[encoded data removed]",
      "text/plain": [
       "<Figure size 432x288 with 1 Axes>"
      ]
     },
     "metadata": {
      "needs_background": "light"
     },
     "output_type": "display_data"
    }
   ],
   "source": [
    "# Generate a scatter plot of mouse weight versus average tumor volume for the Capomulin regimen\n",
    "\n",
    "#New data frame of all rows for the drug regimen Capomulin\n",
    "capomulin_data = combined_data.loc[combined_data['Drug Regimen']=='Capomulin']\n",
    "\n",
    "#Group by mouse ID\n",
    "capo_grouped = capomulin_data.groupby('Mouse ID')\n",
    "#Calculate mean tumor volume for each mouse\n",
    "capo_grouped_mean_volume = capo_grouped['Tumor Volume (mm3)'].mean()\n",
    "\n",
    "#Reset the index\n",
    "new_index = capo_grouped_mean_volume.reset_index()\n",
    "\n",
    "#New daataframe with mouse ID and weight\n",
    "mouse_weights = capomulin_data[['Mouse ID', 'Weight (g)']]\n",
    "\n",
    "#Merge the two dataframes\n",
    "merged = new_index.merge(mouse_weights, on='Mouse ID', how='left', copy=False)\n",
    "#Drop duplicate values for each mouse\n",
    "merged_unique = merged.drop_duplicates(keep='first')\n",
    "\n",
    "#Create a scatter plot of mouse weight vs. tumor volume\n",
    "plt.scatter(merged_unique['Weight (g)'], merged_unique['Tumor Volume (mm3)'])\n",
    "\n",
    "#Add chart labels\n",
    "plt.title('Mouse Weight vs. Mean Tumor Volume for Mice Treated with Capomulin')\n",
    "plt.xlabel('Mouse Weight (g)')\n",
    "plt.ylabel('Mean Tumor Volume (mm3)')\n",
    "\n",
    "#Display the chart\n",
    "plt.show()"
   ]
  },
  {
   "cell_type": "code",
   "execution_count": 14,
   "metadata": {},
   "outputs": [],
   "source": [
    "# Calculate the correlation coefficient and linear regression model for mouse weight and average tumor volume for the Capomulin regimen"
   ]
  },
  {
   "cell_type": "code",
   "execution_count": 15,
   "metadata": {},
   "outputs": [
    {
     "name": "stdout",
     "output_type": "stream",
     "text": [
      "The r-squared is: 0.8419363424694718\n"
     ]
    },
    {
     "data": {
      "image/png": "[encoded data removed]",
      "text/plain": [
       "<Figure size 432x288 with 1 Axes>"
      ]
     },
     "metadata": {
      "needs_background": "light"
     },
     "output_type": "display_data"
    }
   ],
   "source": [
    "# Print out the r-squared value along with the plot.\n",
    "x_values = merged_unique['Weight (g)']\n",
    "y_values = merged_unique['Tumor Volume (mm3)']\n",
    "(slope, intercept, rvalue, pvalue, stderr) = st.linregress(x_values, y_values)\n",
    "regress_values = x_values * slope + intercept\n",
    "line_eq = \"y = \" + str(round(slope,2)) + \"x + \" + str(round(intercept,2))\n",
    "plt.scatter(x_values,y_values)\n",
    "plt.plot(x_values,regress_values,\"r-\")\n",
    "plt.annotate(line_eq,(20,37),fontsize=15,color=\"red\")\n",
    "plt.xlabel('Mouse Weight (g)')\n",
    "plt.ylabel('Mean Tumor Volume (mm3)')\n",
    "print(f\"The r-squared is: {rvalue}\")\n",
    "plt.show()"
   ]
  },
  {
   "cell_type": "code",
   "execution_count": null,
   "metadata": {},
   "outputs": [],
   "source": []
  }
 ],
 "metadata": {
  "anaconda-cloud": {},
  "kernelspec": {
   "display_name": "Python [conda env:PythonData] *",
   "language": "python",
   "name": "conda-env-PythonData-py"
  },
  "language_info": {
   "codemirror_mode": {
    "name": "ipython",
    "version": 3
   },
   "file_extension": ".py",
   "mimetype": "text/x-python",
   "name": "python",
   "nbconvert_exporter": "python",
   "pygments_lexer": "ipython3",
   "version": "3.6.10"
  }
 },
 "nbformat": 4,
 "nbformat_minor": 2
}
